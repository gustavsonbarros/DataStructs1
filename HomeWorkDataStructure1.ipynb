{
  "nbformat": 4,
  "nbformat_minor": 0,
  "metadata": {
    "colab": {
      "provenance": [],
      "authorship_tag": "ABX9TyOkgIsRUAhxTFnU44Pm9q1z",
      "include_colab_link": true
    },
    "kernelspec": {
      "name": "python3",
      "display_name": "Python 3"
    },
    "language_info": {
      "name": "python"
    }
  },
  "cells": [
    {
      "cell_type": "markdown",
      "metadata": {
        "id": "view-in-github",
        "colab_type": "text"
      },
      "source": [
        "<a href=\"https://colab.research.google.com/github/gustavsonbarros/DataStructs1/blob/main/HomeWorkDataStructure1.ipynb\" target=\"_parent\"><img src=\"https://colab.research.google.com/assets/colab-badge.svg\" alt=\"Open In Colab\"/></a>"
      ]
    },
    {
      "cell_type": "markdown",
      "source": [
        "**HOMEWORK - DATASTRUCTURE**"
      ],
      "metadata": {
        "id": "h5l9sSrrnxZI"
      }
    },
    {
      "cell_type": "markdown",
      "source": [
        "1 - Introdução ao Conceito de Deques\n",
        "Um deque (Double-Ended Queue) é como uma fila com poderes extras! Diferente das filas e pilhas tradicionais, o deque te permite adicionar ou remover elementos tanto do começo quanto do final. É como ter uma fila onde você pode entrar ou sair pelos dois lados.\n",
        "\n",
        "Pilhas e Filas:\n",
        "    • Pilhas funcionam no esquema LIFO (Last In, First Out), ou seja, o último a entrar é o primeiro a sair. Imagina uma pilha de pratos: o último prato que você coloca no topo é o primeiro que você tira.\n",
        "    • Filas seguem o conceito FIFO (First In, First Out), onde o primeiro que entra é o primeiro que sai. É igual a uma fila de supermercado: quem chega primeiro é atendido primeiro.\n",
        "      \n",
        "E o deque? O deque combina o melhor dos dois mundos. Você pode:\n",
        "    • Colocar e tirar coisas do começo ou do fim, conforme precisar.\n",
        "    • Isso o torna super versátil e ideal para situações em que você precisa ter acesso rápido às duas extremidades, como em navegadores de internet (avançar e voltar páginas) ou em alguns tipos de algoritmos.\n",
        "Onde usar?\n",
        "    • Um exemplo legal de uso de um deque é em navegadores de internet, onde você pode avançar e voltar entre páginas sem precisar reorganizar tudo.\n",
        "    • Ele também é útil em algoritmos que lidam com agendamento de tarefas, onde é preciso inserir ou remover itens de ambas as pontas.\n",
        "\n",
        "2 - Operações Básicas em Deques:\n",
        "Um deque suporta várias operações básicas que permitem manipular os elementos nas duas extremidades da estrutura. Abaixo, estão listadas as principais operações que podem ser realizadas em um deque:\n",
        "Adiciona o elemento no final do deque.\n",
        "deque.append(10)\n",
        "\n",
        "Adiciona o elemento no início do deque.\n",
        "deque.appendleft(5)\n",
        "\n",
        "Remove e retorna o último elemento do deque\n",
        "ultimo_elemento = deque.pop()\n",
        "\n",
        "Remove e retorna o primeiro elemento do deque (extremidade inicial).\n",
        "primeiro_elemento = deque.popleft()\n",
        "\n",
        "len()\n",
        "Retorna o número de elementos presentes no deque\n",
        "tamanho = len(deque)\n",
        "\n",
        "clear()\n",
        "Remove todos os elementos do deque\n",
        "deque.clear()\n",
        "\n",
        "is_empty()\n",
        "Verifica se o deque está vazio, retornando True se não houver nenhum elemento\n",
        "if deque.is_empty():\n",
        "    print(\"O deque está vazio\")"
      ],
      "metadata": {
        "id": "SHwqWJ6IWyEj"
      }
    },
    {
      "cell_type": "code",
      "source": [
        "class Deque:\n",
        "    def __init__(self):\n",
        "        \"\"\"Inicializa um deque vazio.\"\"\"\n",
        "        self.itens = []\n",
        "\n",
        "    def adicionar(self, item):\n",
        "        \"\"\"Adiciona um elemento ao final do deque.\"\"\"\n",
        "        self.itens.append(item)\n",
        "\n",
        "    def adicionar_inicio(self, item):\n",
        "        \"\"\"Adiciona um elemento ao início do deque.\"\"\"\n",
        "        self.itens.insert(0, item)\n",
        "\n",
        "    def remover(self):\n",
        "        \"\"\"Remove e retorna o último elemento do deque.\"\"\"\n",
        "        if not self.esta_vazio():\n",
        "            return self.itens.pop()\n",
        "        else:\n",
        "            return \"Deque está vazio\"\n",
        "\n",
        "    def remover_inicio(self):\n",
        "        \"\"\"Remove e retorna o primeiro elemento do deque.\"\"\"\n",
        "        if not self.esta_vazio():\n",
        "            return self.itens.pop(0)\n",
        "        else:\n",
        "            return \"Deque está vazio\"\n",
        "\n",
        "    def tamanho(self):\n",
        "        \"\"\"Retorna o número de elementos no deque.\"\"\"\n",
        "        return len(self.itens)\n",
        "\n",
        "    def limpar(self):\n",
        "        \"\"\"Remove todos os elementos do deque.\"\"\"\n",
        "        self.itens = []\n",
        "\n",
        "    def esta_vazio(self):\n",
        "        \"\"\"Verifica se o deque está vazio.\"\"\"\n",
        "        return len(self.itens) == 0\n",
        "\n",
        "    def __repr__(self):\n",
        "        \"\"\"Representação string do deque.\"\"\"\n",
        "        return f\"Deque({self.itens})\"\n"
      ],
      "metadata": {
        "id": "BPEKcyqNn9vI"
      },
      "execution_count": null,
      "outputs": []
    },
    {
      "cell_type": "code",
      "source": [
        "# Criando um deque\n",
        "deque = Deque()\n",
        "\n",
        "# Adicionando elementos no final\n",
        "deque.adicionar(10)\n",
        "deque.adicionar_inicio(20)\n",
        "print(deque)\n",
        "\n",
        "# Adicionando elementos no início\n",
        "deque.adicionar_inicio(5)\n",
        "print(deque)\n",
        "\n",
        "# Removendo do final\n",
        "deque.remover()\n",
        "print(deque)\n",
        "\n",
        "# Removendo do início\n",
        "deque.remover_inicio()\n",
        "print(deque)\n",
        "\n",
        "# Verificando o tamanho\n",
        "print(deque.tamanho())\n",
        "\n",
        "# Esvaziando o deque\n",
        "deque.limpar()\n",
        "print(deque)"
      ],
      "metadata": {
        "id": "au0u2pNWoVUl"
      },
      "execution_count": null,
      "outputs": []
    },
    {
      "cell_type": "markdown",
      "source": [
        "Usando o Deque como uma Pilha Uma pilha segue o princípio LIFO (Last In, First Out), ou seja, o último elemento inserido é o primeiro a ser removido. No deque, podemos usar os métodos append() e pop() para simular o comportamento de uma pilha:"
      ],
      "metadata": {
        "id": "8FBX3FSeodJ7"
      }
    },
    {
      "cell_type": "code",
      "source": [
        "# Usando o deque como uma pilha\n",
        "pilha = Deque()\n",
        "\n",
        "# Adicionando elementos (comportamento de pilha)\n",
        "pilha.adicionar(10)\n",
        "pilha.adicionar(20)\n",
        "pilha.adicionar(30)\n",
        "print(pilha)\n",
        "\n",
        "# Removendo elementos (comportamento de pilha)\n",
        "pilha.remover()\n",
        "print(pilha)\n",
        "\n",
        "pilha.remover()\n",
        "print(pilha)"
      ],
      "metadata": {
        "id": "AKog-KYfog7Q"
      },
      "execution_count": null,
      "outputs": []
    },
    {
      "cell_type": "markdown",
      "source": [
        "\n",
        "\n",
        "Usando o Deque como uma Fila\n",
        "\n",
        "Uma fila segue o princípio FIFO (First In, First Out), onde o primeiro elemento a entrar é o primeiro a sair. No deque, podemos usar os métodos append() e popleft() para simular o comportamento de uma fila:\n"
      ],
      "metadata": {
        "id": "IezAIohUo0Me"
      }
    },
    {
      "cell_type": "code",
      "source": [
        "fila = Deque()\n",
        "\n",
        "# Adicionando elementos (comportamento de fila)\n",
        "fila.adicionar(10)\n",
        "fila.adicionar(20)\n",
        "fila.adicionar(30)\n",
        "print(fila)\n",
        "\n",
        "# Removendo elementos (comportamento de fila)\n",
        "fila.remover_inicio()\n",
        "print(fila)\n",
        "\n",
        "fila.remover_inicio()\n",
        "print(fila)"
      ],
      "metadata": {
        "id": "xeP9gUPZo1iY"
      },
      "execution_count": null,
      "outputs": []
    },
    {
      "cell_type": "markdown",
      "source": [
        "Exemplo de Aplicação Prática: Histórico de Navegação"
      ],
      "metadata": {
        "id": "ZP2jHQrdo8mJ"
      }
    },
    {
      "cell_type": "code",
      "source": [
        "class HistoricoNavegacao:\n",
        "    \"\"\"\n",
        "    Classe que simula o histórico de navegação de um navegador web,\n",
        "    permitindo avançar e retroceder entre páginas visitadas.\n",
        "    \"\"\"\n",
        "\n",
        "    def __init__(self):\n",
        "        \"\"\"\n",
        "        Inicializa o histórico de navegação e a pilha de páginas para avançar.\n",
        "        \"\"\"\n",
        "        self.historico = Deque()  # Histórico de páginas visitadas\n",
        "        self.pilha_avancar = Deque()  # Páginas removidas ao voltar\n",
        "\n",
        "    def visitar(self, pagina):\n",
        "        \"\"\"\n",
        "        Visita uma nova página e limpa a pilha de páginas para avançar.\n",
        "        Args:\n",
        "            pagina (str): A URL ou nome da página a ser visitada.\n",
        "        \"\"\"\n",
        "        self.historico.adicionar(pagina)\n",
        "        self.pilha_avancar.limpar()  # Reseta o \"avanço\"\n",
        "        print(f\"Visitando a página: {pagina}\")\n",
        "        print(f\"Histórico: {self.historico}\")\n",
        "\n",
        "    def voltar(self):\n",
        "        \"\"\"\n",
        "        Volta para a página anterior e coloca a página atual na pilha de avanço.\n",
        "        \"\"\"\n",
        "        if self.historico.tamanho() > 1:\n",
        "            ultima_pagina = self.historico.remover()\n",
        "            self.pilha_avancar.adicionar_inicio(ultima_pagina)\n",
        "            print(f\"Voltando para a página anterior.\")\n",
        "        else:\n",
        "            print(\"Não há mais páginas para voltar.\")\n",
        "        print(f\"Histórico: {self.historico}\")\n",
        "\n",
        "    def avancar(self):\n",
        "        \"\"\"\n",
        "        Avança para a próxima página, retirando-a da pilha de avanço e retornando-a ao histórico.\n",
        "        \"\"\"\n",
        "        if not self.pilha_avancar.esta_vazio():\n",
        "            proxima_pagina = self.pilha_avancar.remover_inicio()\n",
        "            self.historico.adicionar(proxima_pagina)\n",
        "            print(f\"Avançando para a página: {proxima_pagina}\")\n",
        "        else:\n",
        "            print(\"Não há páginas para avançar.\")\n",
        "        print(f\"Histórico: {self.historico}\")\n",
        "\n",
        "\n",
        "def simular_navegador():\n",
        "    navegador = HistoricoNavegacao()\n",
        "\n",
        "    while True:\n",
        "        print(\"\\nEscolha uma opção:\")\n",
        "        print(\"1. Visitar nova página\")\n",
        "        print(\"2. Voltar para a página anterior\")\n",
        "        print(\"3. Avançar para a próxima página\")\n",
        "        print(\"4. Exibir histórico\")\n",
        "        print(\"5. Sair\")\n",
        "\n",
        "        escolha = input(\"Opção: \")\n",
        "\n",
        "        if escolha == '1':\n",
        "            pagina = input(\"Digite o nome da nova página: \")\n",
        "            navegador.visitar(pagina)\n",
        "        elif escolha == '2':\n",
        "            navegador.voltar()\n",
        "        elif escolha == '3':\n",
        "            navegador.avancar()\n",
        "        elif escolha == '4':\n",
        "            print(f\"Histórico: {navegador.historico}\")\n",
        "        elif escolha == '5':\n",
        "            print(\"Encerrando o simulador.\")\n",
        "            break\n",
        "        else:\n",
        "            print(\"Opção inválida. Tente novamente.\")\n",
        "\n",
        "# Executar a simulação\n",
        "simular_navegador()"
      ],
      "metadata": {
        "id": "lvoobSb9pKu1"
      },
      "execution_count": null,
      "outputs": []
    },
    {
      "cell_type": "markdown",
      "source": [
        "Desafio Extra:"
      ],
      "metadata": {
        "id": "IoPeeHZhpUp3"
      }
    },
    {
      "cell_type": "code",
      "source": [
        "from collections import deque\n",
        "\n",
        "# Classe que representa uma fila de candidatos para um concurso\n",
        "class FilaConcurso:\n",
        "    def __init__(self):\n",
        "        \"\"\"Inicializa a fila de candidatos como uma deque vazia.\"\"\"\n",
        "        self.fila = deque()\n",
        "\n",
        "    def adicionar_candidato(self, candidato):\n",
        "        \"\"\"Adiciona um novo candidato à fila.\"\"\"\n",
        "        self.fila.append(candidato)\n",
        "        print(f\"Candidato {candidato} adicionado à fila.\")\n",
        "\n",
        "    def chamar_candidato(self):\n",
        "        \"\"\"Chama o próximo candidato da fila.\"\"\"\n",
        "        if self.fila:  # Verifica se há candidatos na fila\n",
        "            candidato = self.fila.popleft()  # Remove o primeiro candidato da fila\n",
        "            resposta = input(f\"Candidato {candidato}, você aceita ser chamado? (s/n): \")\n",
        "            if resposta.lower() == 'n':\n",
        "                # Se o candidato não aceitar, ele vai para o final da fila\n",
        "                print(f\"Candidato {candidato} não aceitou e foi para o final da fila.\")\n",
        "                self.fila.append(candidato)\n",
        "                self.fila.rotate(-1)  # Rotaciona a fila para mover o próximo candidato para frente\n",
        "            else:\n",
        "                print(f\"Candidato {candidato} aceitou ser chamado.\")\n",
        "        else:\n",
        "            print(\"Não há candidatos na fila.\")\n",
        "\n",
        "    def exibir_fila(self):\n",
        "        \"\"\"Exibe todos os candidatos que estão na fila.\"\"\"\n",
        "        print(\"Fila de candidatos:\", end=\" \")\n",
        "        for candidato in self.fila:\n",
        "            print(candidato, end=\" \")\n",
        "        print()\n",
        "\n",
        "def simular_concurso():\n",
        "    \"\"\"Função que simula o funcionamento do concurso.\"\"\"\n",
        "    fila_concurso = FilaConcurso()  # Cria uma nova fila de concurso\n",
        "\n",
        "    while True:\n",
        "        print(\"\\nEscolha uma opção:\")\n",
        "        print(\"1. Adicionar candidato\")\n",
        "        print(\"2. Chamar candidato\")\n",
        "        print(\"3. Exibir fila\")\n",
        "        print(\"4. Sair\")\n",
        "\n",
        "        escolha = input(\"Opção: \")\n",
        "\n",
        "        if escolha == '1':\n",
        "            candidato = input(\"Digite o nome do candidato: \")\n",
        "            fila_concurso.adicionar_candidato(candidato)\n",
        "        elif escolha == '2':\n",
        "            fila_concurso.chamar_candidato()\n",
        "        elif escolha == '3':\n",
        "            fila_concurso.exibir_fila()\n",
        "        elif escolha == '4':\n",
        "            print(\"Encerrando o simulador.\")\n",
        "            break\n",
        "        else:\n",
        "            print(\"Opção inválida. Tente novamente.\")\n",
        "\n",
        "# Executar a simulação\n",
        "simular_concurso()"
      ],
      "metadata": {
        "colab": {
          "base_uri": "https://localhost:8080/"
        },
        "id": "zRQjmKu4pVZO",
        "outputId": "da19769f-8443-4968-9475-39229afd9185"
      },
      "execution_count": null,
      "outputs": [
        {
          "output_type": "stream",
          "name": "stdout",
          "text": [
            "\n",
            "Escolha uma opção:\n",
            "1. Adicionar candidato\n",
            "2. Chamar candidato\n",
            "3. Exibir fila\n",
            "4. Sair\n",
            "Opção: 1\n",
            "Digite o nome do candidato: guga\n",
            "Candidato guga adicionado à fila.\n",
            "\n",
            "Escolha uma opção:\n",
            "1. Adicionar candidato\n",
            "2. Chamar candidato\n",
            "3. Exibir fila\n",
            "4. Sair\n",
            "Opção: 1\n",
            "Digite o nome do candidato: gustavson\n",
            "Candidato gustavson adicionado à fila.\n",
            "\n",
            "Escolha uma opção:\n",
            "1. Adicionar candidato\n",
            "2. Chamar candidato\n",
            "3. Exibir fila\n",
            "4. Sair\n",
            "Opção: 3\n",
            "Fila de candidatos: guga gustavson \n",
            "\n",
            "Escolha uma opção:\n",
            "1. Adicionar candidato\n",
            "2. Chamar candidato\n",
            "3. Exibir fila\n",
            "4. Sair\n",
            "Opção: 2\n",
            "Candidato guga, você aceita ser chamado? (s/n): n\n",
            "Candidato guga não aceitou e foi para o final da fila.\n",
            "\n",
            "Escolha uma opção:\n",
            "1. Adicionar candidato\n",
            "2. Chamar candidato\n",
            "3. Exibir fila\n",
            "4. Sair\n",
            "Opção: 2\n",
            "Candidato guga, você aceita ser chamado? (s/n): s\n",
            "Candidato guga aceitou ser chamado.\n",
            "\n",
            "Escolha uma opção:\n",
            "1. Adicionar candidato\n",
            "2. Chamar candidato\n",
            "3. Exibir fila\n",
            "4. Sair\n",
            "Opção: 4\n",
            "Encerrando o simulador.\n"
          ]
        }
      ]
    }
  ]
}